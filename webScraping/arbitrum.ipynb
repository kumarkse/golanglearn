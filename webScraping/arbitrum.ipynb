{
 "cells": [
  {
   "cell_type": "code",
   "execution_count": 143,
   "metadata": {},
   "outputs": [],
   "source": [
    "from bs4 import BeautifulSoup\n",
    "import os\n",
    "import requests\n",
    "import json\n",
    "from selenium import webdriver\n",
    "import time\n",
    "import pickle"
   ]
  },
  {
   "cell_type": "code",
   "execution_count": null,
   "metadata": {},
   "outputs": [],
   "source": [
    "base_URL = \"https://forum.arbitrum.foundation\"\n",
    "# response = requests.get(base_URL)\n",
    "# soup = BeautifulSoup(response.content,\"html.parser\")\n"
   ]
  },
  {
   "cell_type": "code",
   "execution_count": 114,
   "metadata": {},
   "outputs": [],
   "source": [
    "# for understanding the structure of elements\n",
    "# with open(\"file1.html\",\"w\")as ff:\n",
    "    # ff.write(str(soup))\n",
    "# with open(\"file1.html\",\"w\")as ff:\n",
    "#     ff.write(str(soup))\n"
   ]
  },
  {
   "cell_type": "code",
   "execution_count": 115,
   "metadata": {},
   "outputs": [],
   "source": [
    "categories_and_links={}\n",
    "topics_and_links={}\n",
    "content={}"
   ]
  },
  {
   "cell_type": "code",
   "execution_count": 140,
   "metadata": {},
   "outputs": [],
   "source": [
    "def scrape_first_page_categories(url):\n",
    "    driver = webdriver.Chrome()\n",
    "    driver.get(url)\n",
    "    last_height = driver.execute_script(\"return document.body.scrollHeight\")\n",
    "    for i in range(100):\n",
    "        time.sleep(2)\n",
    "        driver.execute_script(\"window.scrollTo(0, document.body.scrollHeight);\")\n",
    "        current_height = driver.execute_script(\"return document.body.scrollHeight\")\n",
    "        if(current_height==last_height):\n",
    "            break \n",
    "        last_height=current_height\n",
    "    \n",
    "\n",
    "    \n",
    "    soup = BeautifulSoup(driver.page_source,\"html.parser\")\n",
    "    driver.quit()\n",
    "    article_categories = {\n",
    "        'category':[],   \n",
    "        'links':[]       \n",
    "    }\n",
    "    table = soup.find(\"table\",class_='category-list')\n",
    "    for i in table.find_all(\"h3\"):\n",
    "        article_categories['links'].append(url+i.a.attrs['href'][1:])\n",
    "        article_categories['category'].append(i.span.text)\n",
    "\n",
    "    return article_categories\n",
    "\n",
    "\n",
    "\n",
    "def scrape_second_page_topics(article_categories):\n",
    "    article_topics = {}\n",
    "    for i in range(len(article_categories['category'])):\n",
    "        url = article_categories['links'][i]\n",
    "        category = article_categories['category'][i]\n",
    "\n",
    "        driver = webdriver.Chrome()\n",
    "        driver.get(url)\n",
    "        last_height = driver.execute_script(\"return document.body.scrollHeight\")\n",
    "        for i in range(100):\n",
    "            driver.execute_script(\"window.scrollTo(0, document.body.scrollHeight);\")\n",
    "            time.sleep(2)\n",
    "            current_height = driver.execute_script(\"return document.body.scrollHeight\")\n",
    "            if(current_height==last_height):\n",
    "                break \n",
    "            last_height=current_height\n",
    "    \n",
    "\n",
    "    \n",
    "        soup = BeautifulSoup(driver.page_source,\"html.parser\")\n",
    "        driver.quit()\n",
    "\n",
    "        table = soup.find(\"table\",class_=\"topic-list\")\n",
    "        record = {\n",
    "            'title':[],   \n",
    "            'link':[]       \n",
    "        }\n",
    "        for i in table.find_all(\"td\",class_=\"main-link\"):\n",
    "            record['link'].append(i.a.attrs['href'])\n",
    "            record['title'].append(i.a.text)\n",
    "\n",
    "        article_topics[category]= record\n",
    "\n",
    "    return article_topics    \n",
    "\n",
    "\n",
    "        \n",
    "\n",
    "\n",
    "\n",
    "    \n",
    "    \n",
    "    "
   ]
  },
  {
   "cell_type": "code",
   "execution_count": null,
   "metadata": {},
   "outputs": [],
   "source": [
    "cc = scrape_second_page_topics(scrape_first_page_categories(base_URL))"
   ]
  },
  {
   "cell_type": "code",
   "execution_count": 142,
   "metadata": {},
   "outputs": [],
   "source": [
    "with open(\"../file1.json\",\"w\") as ff:\n",
    "    json.dump(cc,ff)"
   ]
  },
  {
   "cell_type": "code",
   "execution_count": 147,
   "metadata": {},
   "outputs": [],
   "source": [
    "with open(\"till_second_page.pkl\",\"wb\") as filer:\n",
    "    pickle.dump(cc,filer)"
   ]
  },
  {
   "cell_type": "code",
   "execution_count": null,
   "metadata": {},
   "outputs": [],
   "source": []
  }
 ],
 "metadata": {
  "kernelspec": {
   "display_name": "prodigal",
   "language": "python",
   "name": "python3"
  },
  "language_info": {
   "codemirror_mode": {
    "name": "ipython",
    "version": 3
   },
   "file_extension": ".py",
   "mimetype": "text/x-python",
   "name": "python",
   "nbconvert_exporter": "python",
   "pygments_lexer": "ipython3",
   "version": "3.13.0"
  }
 },
 "nbformat": 4,
 "nbformat_minor": 2
}
