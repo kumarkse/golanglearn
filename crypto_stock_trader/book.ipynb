{
 "cells": [
  {
   "cell_type": "code",
   "execution_count": null,
   "metadata": {},
   "outputs": [
    {
     "name": "stdout",
     "output_type": "stream",
     "text": [
      "{'rate': 3595.2780861302845, 'volume': 35420258363, 'cap': 423865051104, 'liquidity': 1198778995, 'delta': {'hour': 1.0046, 'day': 1.0093, 'week': 1.0925, 'month': 1.3509, 'quarter': 1.4337, 'year': 1.7546}}\n",
      "\n",
      "rate  :  3595.2780861302845\n",
      "volume  :  35420258363\n",
      "cap  :  423865051104\n",
      "liquidity  :  1198778995\n",
      "delta  :  {'hour': 1.0046, 'day': 1.0093, 'week': 1.0925, 'month': 1.3509, 'quarter': 1.4337, 'year': 1.7546}\n"
     ]
    }
   ],
   "source": [
    "#https://www.livecoinwatch.com/tools/api\n",
    "import os\n",
    "import requests\n",
    "import json\n",
    "from dotenv import load_dotenv\n",
    "load_dotenv()\n",
    "\n",
    "url=\"https://api.livecoinwatch.com/coins/single\"\n",
    "api_key = os.getenv(\"api_key\")\n",
    "\n",
    "payload = json.dumps({\n",
    "    \"currency\":\"USD\",\n",
    "    \"code\":\"ETH\",\n",
    "    \"meta\":False\n",
    "})\n",
    "\n",
    "headers = {\n",
    "    'content-type':'application/json',\n",
    "    'x-api-key':api_key\n",
    "}\n",
    "# print(api_key)\n",
    "response = requests.request(\"POST\",url,headers=headers,data=payload)\n",
    "coinInfo = json.loads(response.text)\n",
    "print(coinInfo)\n",
    "print()\n",
    "for key,value in coinInfo.items():\n",
    "    print(key,\" : \",value)"
   ]
  },
  {
   "cell_type": "code",
   "execution_count": 38,
   "metadata": {},
   "outputs": [
    {
     "name": "stdout",
     "output_type": "stream",
     "text": [
      "{'rate': 3592.6036894467125, 'volume': 35583224983, 'cap': 423549753299, 'liquidity': 1249186413, 'delta': {'hour': 1.0031, 'day': 1.0088, 'week': 1.0895, 'month': 1.3443, 'quarter': 1.43, 'year': 1.751}}\n",
      "\n",
      "rate  :  3592.6036894467125\n",
      "volume  :  35583224983\n",
      "cap  :  423549753299\n",
      "liquidity  :  1249186413\n",
      "delta  :  {'hour': 1.0031, 'day': 1.0088, 'week': 1.0895, 'month': 1.3443, 'quarter': 1.43, 'year': 1.751}\n",
      "{'rate': 3592.519760946242, 'volume': 35578865248, 'cap': 423539858555, 'liquidity': 1250059373, 'delta': {'hour': 1.0031, 'day': 1.0088, 'week': 1.0895, 'month': 1.3443, 'quarter': 1.43, 'year': 1.751}}\n",
      "\n",
      "rate  :  3592.519760946242\n",
      "volume  :  35578865248\n",
      "cap  :  423539858555\n",
      "liquidity  :  1250059373\n",
      "delta  :  {'hour': 1.0031, 'day': 1.0088, 'week': 1.0895, 'month': 1.3443, 'quarter': 1.43, 'year': 1.751}\n",
      "{'rate': 3592.518482234536, 'volume': 35576141279, 'cap': 423539707801, 'liquidity': 1249478368, 'delta': {'hour': 1.0031, 'day': 1.0088, 'week': 1.0895, 'month': 1.3443, 'quarter': 1.43, 'year': 1.751}}\n",
      "\n",
      "rate  :  3592.518482234536\n",
      "volume  :  35576141279\n",
      "cap  :  423539707801\n",
      "liquidity  :  1249478368\n",
      "delta  :  {'hour': 1.0031, 'day': 1.0088, 'week': 1.0895, 'month': 1.3443, 'quarter': 1.43, 'year': 1.751}\n",
      "{'rate': 3592.435414817999, 'volume': 35582641644, 'cap': 423529914574, 'liquidity': 1249385712, 'delta': {'hour': 1.0031, 'day': 1.0088, 'week': 1.0895, 'month': 1.3443, 'quarter': 1.4299, 'year': 1.751}}\n",
      "\n",
      "rate  :  3592.435414817999\n",
      "volume  :  35582641644\n",
      "cap  :  423529914574\n",
      "liquidity  :  1249385712\n",
      "delta  :  {'hour': 1.0031, 'day': 1.0088, 'week': 1.0895, 'month': 1.3443, 'quarter': 1.4299, 'year': 1.751}\n",
      "{'rate': 3592.148841788581, 'volume': 35584569726, 'cap': 423496129067, 'liquidity': 1258797118, 'delta': {'hour': 1.003, 'day': 1.0087, 'week': 1.0894, 'month': 1.3442, 'quarter': 1.4298, 'year': 1.7508}}\n",
      "\n",
      "rate  :  3592.148841788581\n",
      "volume  :  35584569726\n",
      "cap  :  423496129067\n",
      "liquidity  :  1258797118\n",
      "delta  :  {'hour': 1.003, 'day': 1.0087, 'week': 1.0894, 'month': 1.3442, 'quarter': 1.4298, 'year': 1.7508}\n",
      "{'rate': 3592.6756416019166, 'volume': 35590730867, 'cap': 423558236094, 'liquidity': 1261082052, 'delta': {'hour': 1.0031, 'day': 1.0088, 'week': 1.0896, 'month': 1.3444, 'quarter': 1.43, 'year': 1.7511}}\n",
      "\n",
      "rate  :  3592.6756416019166\n",
      "volume  :  35590730867\n",
      "cap  :  423558236094\n",
      "liquidity  :  1261082052\n",
      "delta  :  {'hour': 1.0031, 'day': 1.0088, 'week': 1.0896, 'month': 1.3444, 'quarter': 1.43, 'year': 1.7511}\n",
      "{'rate': 3592.67564114602, 'volume': 35584748882, 'cap': 423558236040, 'liquidity': 1262026590, 'delta': {'hour': 1.0031, 'day': 1.0088, 'week': 1.0896, 'month': 1.3444, 'quarter': 1.43, 'year': 1.7511}}\n",
      "\n",
      "rate  :  3592.67564114602\n",
      "volume  :  35584748882\n",
      "cap  :  423558236040\n",
      "liquidity  :  1262026590\n",
      "delta  :  {'hour': 1.0031, 'day': 1.0088, 'week': 1.0896, 'month': 1.3444, 'quarter': 1.43, 'year': 1.7511}\n",
      "{'rate': 3592.675716675222, 'volume': 35582411714, 'cap': 423558244944, 'liquidity': 1261881667, 'delta': {'hour': 1.0031, 'day': 1.0088, 'week': 1.0896, 'month': 1.3444, 'quarter': 1.43, 'year': 1.7511}}\n",
      "\n",
      "rate  :  3592.675716675222\n",
      "volume  :  35582411714\n",
      "cap  :  423558244944\n",
      "liquidity  :  1261881667\n",
      "delta  :  {'hour': 1.0031, 'day': 1.0088, 'week': 1.0896, 'month': 1.3444, 'quarter': 1.43, 'year': 1.7511}\n",
      "{'rate': 3592.6716125441803, 'volume': 35579200801, 'cap': 423557761088, 'liquidity': 1258985544, 'delta': {'hour': 1.0031, 'day': 1.0088, 'week': 1.0896, 'month': 1.3444, 'quarter': 1.43, 'year': 1.7511}}\n",
      "\n",
      "rate  :  3592.6716125441803\n",
      "volume  :  35579200801\n",
      "cap  :  423557761088\n",
      "liquidity  :  1258985544\n",
      "delta  :  {'hour': 1.0031, 'day': 1.0088, 'week': 1.0896, 'month': 1.3444, 'quarter': 1.43, 'year': 1.7511}\n",
      "{'rate': 3592.774637413205, 'volume': 35579998962, 'cap': 423569907198, 'liquidity': 1257556065, 'delta': {'hour': 1.0032, 'day': 1.0089, 'week': 1.0896, 'month': 1.3444, 'quarter': 1.4301, 'year': 1.7511}}\n",
      "\n",
      "rate  :  3592.774637413205\n",
      "volume  :  35579998962\n",
      "cap  :  423569907198\n",
      "liquidity  :  1257556065\n",
      "delta  :  {'hour': 1.0032, 'day': 1.0089, 'week': 1.0896, 'month': 1.3444, 'quarter': 1.4301, 'year': 1.7511}\n",
      "[3592.6036894467125, 3592.519760946242, 3592.518482234536, 3592.435414817999, 3592.148841788581, 3592.6756416019166, 3592.67564114602, 3592.675716675222, 3592.6716125441803, 3592.774637413205]\n"
     ]
    }
   ],
   "source": [
    "#https://www.livecoinwatch.com/tools/api\n",
    "import os\n",
    "import requests\n",
    "import json\n",
    "from dotenv import load_dotenv\n",
    "import time\n",
    "load_dotenv()\n",
    "\n",
    "url=\"https://api.livecoinwatch.com/coins/single\"\n",
    "api_key = os.getenv(\"api_key\")\n",
    "\n",
    "payload = json.dumps({\n",
    "    \"currency\":\"USD\",\n",
    "    \"code\":\"ETH\",\n",
    "    \"meta\":False\n",
    "})\n",
    "\n",
    "headers = {\n",
    "    'content-type':'application/json',\n",
    "    'x-api-key':api_key\n",
    "}\n",
    "# print(api_key)\n",
    "i=0\n",
    "prices=[]\n",
    "while i<10:\n",
    "    time.sleep(10)\n",
    "    response = requests.request(\"POST\",url,headers=headers,data=payload)\n",
    "    coinInfo = json.loads(response.text)\n",
    "    print(coinInfo)\n",
    "    print()\n",
    "    for key,value in coinInfo.items():\n",
    "        print(key,\" : \",value)\n",
    "    prices.append(coinInfo[\"rate\"])\n",
    "    i+=1\n",
    "\n",
    "print(prices)"
   ]
  },
  {
   "cell_type": "code",
   "execution_count": null,
   "metadata": {},
   "outputs": [
    {
     "name": "stdout",
     "output_type": "stream",
     "text": [
      "[3592.6036894467125, 3592.519760946242, 3592.518482234536, 3592.435414817999, 3592.148841788581, 3592.6756416019166, 3592.67564114602, 3592.675716675222, 3592.6716125441803, 3592.774637413205]\n",
      "[3592.6036894467125, np.float64(3592.5617251964773), np.float64(3592.5191215903887), np.float64(3592.4769485262677), np.float64(3592.29212830329), np.float64(3592.4122416952487), np.float64(3592.6756413739686), np.float64(3592.675678910621), np.float64(3592.673664609701), np.float64(3592.723124978693)]\n"
     ]
    },
    {
     "data": {
      "image/png": "[encoded data removed]",
      "text/plain": [
       "<Figure size 640x480 with 1 Axes>"
      ]
     },
     "metadata": {},
     "output_type": "display_data"
    }
   ],
   "source": [
    "# price and its 2 units moving average demonstration\n",
    "import matplotlib.pyplot as plt\n",
    "import numpy as np\n",
    "x = np.arange(1,11)\n",
    "plt.plot(x,prices,label='data')\n",
    "movingAverage2Unit=[prices[0]]\n",
    "units=2\n",
    "while (len(movingAverage2Unit) != len(prices) ):\n",
    "    avg = np.sum(prices[len(movingAverage2Unit)-units+1:len(movingAverage2Unit)+1])/units \n",
    "    movingAverage2Unit.append(avg)\n",
    "\n",
    "plt.plot(x,movingAverage2Unit,label=\"2unitMA\")\n",
    "\n",
    "print(prices)\n",
    "print(movingAverage2Unit)\n",
    "plt.legend()\n",
    "plt.show()\n",
    "\n"
   ]
  },
  {
   "cell_type": "code",
   "execution_count": null,
   "metadata": {},
   "outputs": [],
   "source": []
  }
 ],
 "metadata": {
  "kernelspec": {
   "display_name": "prodigal",
   "language": "python",
   "name": "python3"
  },
  "language_info": {
   "codemirror_mode": {
    "name": "ipython",
    "version": 3
   },
   "file_extension": ".py",
   "mimetype": "text/x-python",
   "name": "python",
   "nbconvert_exporter": "python",
   "pygments_lexer": "ipython3",
   "version": "3.13.0"
  }
 },
 "nbformat": 4,
 "nbformat_minor": 2
}
